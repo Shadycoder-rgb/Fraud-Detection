{
  "nbformat": 4,
  "nbformat_minor": 0,
  "metadata": {
    "colab": {
      "provenance": [],
      "gpuType": "T4",
      "authorship_tag": "ABX9TyNg5t1rrZQY64N6M9taYrVb",
      "include_colab_link": true
    },
    "kernelspec": {
      "name": "python3",
      "display_name": "Python 3"
    },
    "language_info": {
      "name": "python"
    },
    "accelerator": "GPU"
  },
  "cells": [
    {
      "cell_type": "markdown",
      "metadata": {
        "id": "view-in-github",
        "colab_type": "text"
      },
      "source": [
        "<a href=\"https://colab.research.google.com/github/Shadycoder-rgb/Fraud-Detection/blob/main/Fraud_Detection.ipynb\" target=\"_parent\"><img src=\"https://colab.research.google.com/assets/colab-badge.svg\" alt=\"Open In Colab\"/></a>"
      ]
    },
    {
      "cell_type": "code",
      "execution_count": 5,
      "metadata": {
        "colab": {
          "base_uri": "https://localhost:8080/"
        },
        "id": "2w97NXNCrhaE",
        "outputId": "a895c02b-ddb5-4eee-e340-2021aaeba701"
      },
      "outputs": [
        {
          "output_type": "stream",
          "name": "stdout",
          "text": [
            "Mounted at /content/drive\n"
          ]
        }
      ],
      "source": [
        "from google.colab import drive\n",
        "drive.mount('/content/drive')"
      ]
    },
    {
      "cell_type": "code",
      "source": [
        "import numpy as np\n",
        "import pandas as pd\n",
        "data=pd.read_csv('/content/drive/MyDrive/PS_20174392719_1491204439457_log.csv')\n"
      ],
      "metadata": {
        "id": "zwR-9rxUPOex"
      },
      "execution_count": 6,
      "outputs": []
    },
    {
      "cell_type": "code",
      "source": [
        "data=data.drop(data.index[1000000:6362619])\n",
        "data = data.drop(columns=['nameOrig', 'nameDest'], errors='ignore')\n",
        "data['type'] = data['type'].astype('category').cat.codes\n",
        "print(\"\\nCorrelation with isFraud:\")\n",
        "print(data.corr()['isFraud'])\n",
        "from sklearn.preprocessing import MinMaxScaler\n",
        "scaler = MinMaxScaler()\n",
        "data[['amount', 'oldbalanceOrg', 'newbalanceOrig', 'oldbalanceDest', 'newbalanceDest']] = scaler.fit_transform(\n",
        "    data[['amount', 'oldbalanceOrg', 'newbalanceOrig', 'oldbalanceDest', 'newbalanceDest']])\n",
        "print(\"\\nClass Distribution:\\n\", data['isFraud'].value_counts())\n"
      ],
      "metadata": {
        "id": "GjI5LYX6UX2Q",
        "colab": {
          "base_uri": "https://localhost:8080/"
        },
        "outputId": "926082d1-6520-428f-c860-2a18711ad1cd"
      },
      "execution_count": 12,
      "outputs": [
        {
          "output_type": "stream",
          "name": "stdout",
          "text": [
            "\n",
            "Correlation with isFraud:\n",
            "step             -0.002791\n",
            "type              0.013151\n",
            "amount            0.075455\n",
            "oldbalanceOrg     0.001089\n",
            "newbalanceOrig   -0.006663\n",
            "oldbalanceDest   -0.004867\n",
            "newbalanceDest   -0.000577\n",
            "isFraud           1.000000\n",
            "isFlaggedFraud         NaN\n",
            "Name: isFraud, dtype: float64\n",
            "\n",
            "Class Distribution:\n",
            " isFraud\n",
            "0    999465\n",
            "1       535\n",
            "Name: count, dtype: int64\n"
          ]
        }
      ]
    },
    {
      "cell_type": "code",
      "source": [
        "from imblearn.over_sampling import SMOTE\n",
        "\n",
        "X = data.drop(columns=['isFraud'])\n",
        "y = data['isFraud']\n",
        "smote = SMOTE(random_state=42)\n",
        "X_resampled, y_resampled = smote.fit_resample(X, y)\n",
        "\n",
        "print(\"\\nClass Distribution After SMOTE:\\n\", y_resampled.value_counts())\n"
      ],
      "metadata": {
        "id": "OAi-lFbVUaVv",
        "colab": {
          "base_uri": "https://localhost:8080/"
        },
        "outputId": "5116686d-5edc-4c38-e50b-00d44c72090c"
      },
      "execution_count": 13,
      "outputs": [
        {
          "output_type": "stream",
          "name": "stdout",
          "text": [
            "\n",
            "Class Distribution After SMOTE:\n",
            " isFraud\n",
            "0    999465\n",
            "1    999465\n",
            "Name: count, dtype: int64\n"
          ]
        }
      ]
    },
    {
      "cell_type": "code",
      "source": [
        "from sklearn.ensemble import RandomForestClassifier\n",
        "from sklearn.model_selection import train_test_split\n",
        "from sklearn.metrics import classification_report, roc_auc_score\n",
        "\n",
        "X_train, X_test, y_train, y_test = train_test_split(X_resampled, y_resampled, test_size=0.2, random_state=42)\n",
        "\n",
        "rf_model = RandomForestClassifier(random_state=42)\n",
        "rf_model.fit(X_train, y_train)\n",
        "\n",
        "y_pred = rf_model.predict(X_test)\n",
        "print(\"\\nClassification Report:\\n\", classification_report(y_test, y_pred))\n",
        "print(\"ROC-AUC Score:\", roc_auc_score(y_test, rf_model.predict_proba(X_test)[:, 1]))\n"
      ],
      "metadata": {
        "id": "n21I21qYUar0",
        "colab": {
          "base_uri": "https://localhost:8080/"
        },
        "outputId": "4c88c93f-e10c-4da3-a282-f2dc3941fbe6"
      },
      "execution_count": 14,
      "outputs": [
        {
          "output_type": "stream",
          "name": "stdout",
          "text": [
            "\n",
            "Classification Report:\n",
            "               precision    recall  f1-score   support\n",
            "\n",
            "           0       1.00      1.00      1.00    199747\n",
            "           1       1.00      1.00      1.00    200039\n",
            "\n",
            "    accuracy                           1.00    399786\n",
            "   macro avg       1.00      1.00      1.00    399786\n",
            "weighted avg       1.00      1.00      1.00    399786\n",
            "\n",
            "ROC-AUC Score: 0.9999854644558822\n"
          ]
        }
      ]
    },
    {
      "cell_type": "code",
      "source": [
        "from sklearn.linear_model import LogisticRegression\n",
        "from sklearn.tree import DecisionTreeClassifier\n",
        "from xgboost import XGBClassifier\n",
        "\n",
        "models = {\n",
        "    \"Random Forest\": RandomForestClassifier(random_state=42),\n",
        "    \"Logistic Regression\": LogisticRegression(max_iter=1000),\n",
        "    \"Decision Tree\": DecisionTreeClassifier(random_state=42),\n",
        "    \"XGBoost\": XGBClassifier(use_label_encoder=False, eval_metric='logloss', random_state=42)\n",
        "}\n",
        "\n",
        "for name, model in models.items():\n",
        "    model.fit(X_train, y_train)\n",
        "    y_pred = model.predict(X_test)\n",
        "    print(f\"\\n{name} Results:\")\n",
        "    print(classification_report(y_test, y_pred))\n",
        "    print(\"ROC-AUC Score:\", roc_auc_score(y_test, model.predict_proba(X_test)[:, 1]))\n"
      ],
      "metadata": {
        "id": "BbIJHatKUc1K",
        "colab": {
          "base_uri": "https://localhost:8080/"
        },
        "outputId": "98657326-8de2-4e46-bd6e-b6294ac19604"
      },
      "execution_count": 15,
      "outputs": [
        {
          "output_type": "stream",
          "name": "stdout",
          "text": [
            "\n",
            "Random Forest Results:\n",
            "              precision    recall  f1-score   support\n",
            "\n",
            "           0       1.00      1.00      1.00    199747\n",
            "           1       1.00      1.00      1.00    200039\n",
            "\n",
            "    accuracy                           1.00    399786\n",
            "   macro avg       1.00      1.00      1.00    399786\n",
            "weighted avg       1.00      1.00      1.00    399786\n",
            "\n",
            "ROC-AUC Score: 0.9999854644558822\n",
            "\n",
            "Logistic Regression Results:\n",
            "              precision    recall  f1-score   support\n",
            "\n",
            "           0       0.80      0.96      0.87    199747\n",
            "           1       0.95      0.75      0.84    200039\n",
            "\n",
            "    accuracy                           0.86    399786\n",
            "   macro avg       0.87      0.86      0.85    399786\n",
            "weighted avg       0.87      0.86      0.85    399786\n",
            "\n",
            "ROC-AUC Score: 0.9285806642934293\n",
            "\n",
            "Decision Tree Results:\n",
            "              precision    recall  f1-score   support\n",
            "\n",
            "           0       1.00      1.00      1.00    199747\n",
            "           1       1.00      1.00      1.00    200039\n",
            "\n",
            "    accuracy                           1.00    399786\n",
            "   macro avg       1.00      1.00      1.00    399786\n",
            "weighted avg       1.00      1.00      1.00    399786\n",
            "\n",
            "ROC-AUC Score: 0.9977555621603649\n"
          ]
        },
        {
          "output_type": "stream",
          "name": "stderr",
          "text": [
            "/usr/local/lib/python3.10/dist-packages/xgboost/core.py:158: UserWarning: [06:45:40] WARNING: /workspace/src/learner.cc:740: \n",
            "Parameters: { \"use_label_encoder\" } are not used.\n",
            "\n",
            "  warnings.warn(smsg, UserWarning)\n"
          ]
        },
        {
          "output_type": "stream",
          "name": "stdout",
          "text": [
            "\n",
            "XGBoost Results:\n",
            "              precision    recall  f1-score   support\n",
            "\n",
            "           0       1.00      0.99      0.99    199747\n",
            "           1       0.99      1.00      0.99    200039\n",
            "\n",
            "    accuracy                           0.99    399786\n",
            "   macro avg       0.99      0.99      0.99    399786\n",
            "weighted avg       0.99      0.99      0.99    399786\n",
            "\n",
            "ROC-AUC Score: 0.999767002472671\n"
          ]
        }
      ]
    },
    {
      "cell_type": "code",
      "source": [],
      "metadata": {
        "id": "IlCqDOVvWJAg"
      },
      "execution_count": null,
      "outputs": []
    },
    {
      "cell_type": "code",
      "source": [],
      "metadata": {
        "id": "Gwd-c3YwWKew"
      },
      "execution_count": null,
      "outputs": []
    },
    {
      "cell_type": "code",
      "source": [],
      "metadata": {
        "id": "PA7Z7MvAWK0z"
      },
      "execution_count": null,
      "outputs": []
    }
  ]
}